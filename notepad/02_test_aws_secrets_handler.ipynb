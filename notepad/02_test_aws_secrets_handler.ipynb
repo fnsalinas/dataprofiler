{
 "cells": [
  {
   "cell_type": "code",
   "execution_count": 1,
   "metadata": {},
   "outputs": [],
   "source": [
    "from typing import List, Dict, Any\n",
    "import os\n",
    "from aws_secrets_handler import AWSSecretsManager\n",
    "\n",
    "APPMAINPATH = os.environ.get('APPMAINPATH')\n",
    "REGION_NAME = os.environ.get('REGION_NAME')"
   ]
  },
  {
   "cell_type": "code",
   "execution_count": 2,
   "metadata": {},
   "outputs": [
    {
     "name": "stderr",
     "output_type": "stream",
     "text": [
      "\u001b[32m2025-02-24 20:45:54.981\u001b[0m | \u001b[1mINFO    \u001b[0m | \u001b[36maws_secrets_handler\u001b[0m:\u001b[36m__init__\u001b[0m:\u001b[36m49\u001b[0m - \u001b[1mCliente de Secrets Manager inicializado en la región us-east-2.\u001b[0m\n",
      "\u001b[32m2025-02-24 20:45:54.982\u001b[0m | \u001b[1mINFO    \u001b[0m | \u001b[36maws_secrets_handler\u001b[0m:\u001b[36mget_secret\u001b[0m:\u001b[36m83\u001b[0m - \u001b[1mObteniendo secreto: aws_postgres\u001b[0m\n",
      "\u001b[32m2025-02-24 20:45:55.415\u001b[0m | \u001b[1mINFO    \u001b[0m | \u001b[36maws_secrets_handler\u001b[0m:\u001b[36m__exit__\u001b[0m:\u001b[36m58\u001b[0m - \u001b[1mConexión al cliente de Secrets Manager cerrada.\u001b[0m\n"
     ]
    }
   ],
   "source": [
    "with AWSSecretsManager(REGION_NAME) as sm:\n",
    "    secret = sm.get_secret(\"aws_postgres\")"
   ]
  },
  {
   "cell_type": "code",
   "execution_count": 4,
   "metadata": {},
   "outputs": [
    {
     "name": "stderr",
     "output_type": "stream",
     "text": [
      "\u001b[32m2025-02-24 20:46:54.189\u001b[0m | \u001b[1mINFO    \u001b[0m | \u001b[36maws_secrets_handler\u001b[0m:\u001b[36m__init__\u001b[0m:\u001b[36m49\u001b[0m - \u001b[1mCliente de Secrets Manager inicializado en la región us-east-2.\u001b[0m\n"
     ]
    }
   ],
   "source": [
    "secrets_manager = AWSSecretsManager(REGION_NAME)"
   ]
  },
  {
   "cell_type": "code",
   "execution_count": 5,
   "metadata": {},
   "outputs": [
    {
     "name": "stderr",
     "output_type": "stream",
     "text": [
      "\u001b[32m2025-02-24 20:47:04.157\u001b[0m | \u001b[1mINFO    \u001b[0m | \u001b[36maws_secrets_handler\u001b[0m:\u001b[36mcreate_secret\u001b[0m:\u001b[36m71\u001b[0m - \u001b[1mCreando secreto: mi_secreto\u001b[0m\n",
      "\u001b[32m2025-02-24 20:47:04.830\u001b[0m | \u001b[31m\u001b[1mERROR   \u001b[0m | \u001b[36maws_secrets_handler\u001b[0m:\u001b[36mwrapper\u001b[0m:\u001b[36m23\u001b[0m - \u001b[31m\u001b[1mError en create_secret: ResourceExistsException - An error occurred (ResourceExistsException) when calling the CreateSecret operation: The operation failed because the secret mi_secreto already exists.\u001b[0m\n"
     ]
    },
    {
     "ename": "ResourceExistsException",
     "evalue": "An error occurred (ResourceExistsException) when calling the CreateSecret operation: The operation failed because the secret mi_secreto already exists.",
     "output_type": "error",
     "traceback": [
      "\u001b[0;31m---------------------------------------------------------------------------\u001b[0m",
      "\u001b[0;31mResourceExistsException\u001b[0m                   Traceback (most recent call last)",
      "Cell \u001b[0;32mIn[5], line 2\u001b[0m\n\u001b[1;32m      1\u001b[0m \u001b[38;5;66;03m# Crear un nuevo secreto\u001b[39;00m\n\u001b[0;32m----> 2\u001b[0m \u001b[43msecrets_manager\u001b[49m\u001b[38;5;241;43m.\u001b[39;49m\u001b[43mcreate_secret\u001b[49m\u001b[43m(\u001b[49m\u001b[38;5;124;43m\"\u001b[39;49m\u001b[38;5;124;43mmi_secreto\u001b[39;49m\u001b[38;5;124;43m\"\u001b[39;49m\u001b[43m,\u001b[49m\u001b[43m \u001b[49m\u001b[43m{\u001b[49m\u001b[38;5;124;43m\"\u001b[39;49m\u001b[38;5;124;43mclave\u001b[39;49m\u001b[38;5;124;43m\"\u001b[39;49m\u001b[43m:\u001b[49m\u001b[43m \u001b[49m\u001b[38;5;124;43m\"\u001b[39;49m\u001b[38;5;124;43mvalor123\u001b[39;49m\u001b[38;5;124;43m\"\u001b[39;49m\u001b[43m}\u001b[49m\u001b[43m)\u001b[49m\n",
      "File \u001b[0;32m~/proyectos/dataprofiler/src/aws_secrets_handler.py:20\u001b[0m, in \u001b[0;36mhandle_boto3_exceptions.<locals>.wrapper\u001b[0;34m(self, *args, **kwargs)\u001b[0m\n\u001b[1;32m     18\u001b[0m \u001b[38;5;28;01mdef\u001b[39;00m\u001b[38;5;250m \u001b[39m\u001b[38;5;21mwrapper\u001b[39m(\u001b[38;5;28mself\u001b[39m, \u001b[38;5;241m*\u001b[39margs, \u001b[38;5;241m*\u001b[39m\u001b[38;5;241m*\u001b[39mkwargs):\n\u001b[1;32m     19\u001b[0m     \u001b[38;5;28;01mtry\u001b[39;00m:\n\u001b[0;32m---> 20\u001b[0m         \u001b[38;5;28;01mreturn\u001b[39;00m \u001b[43mfunc\u001b[49m\u001b[43m(\u001b[49m\u001b[38;5;28;43mself\u001b[39;49m\u001b[43m,\u001b[49m\u001b[43m \u001b[49m\u001b[38;5;241;43m*\u001b[39;49m\u001b[43margs\u001b[49m\u001b[43m,\u001b[49m\u001b[43m \u001b[49m\u001b[38;5;241;43m*\u001b[39;49m\u001b[38;5;241;43m*\u001b[39;49m\u001b[43mkwargs\u001b[49m\u001b[43m)\u001b[49m\n\u001b[1;32m     21\u001b[0m     \u001b[38;5;28;01mexcept\u001b[39;00m ClientError \u001b[38;5;28;01mas\u001b[39;00m e:\n\u001b[1;32m     22\u001b[0m         error_code \u001b[38;5;241m=\u001b[39m e\u001b[38;5;241m.\u001b[39mresponse[\u001b[38;5;124m'\u001b[39m\u001b[38;5;124mError\u001b[39m\u001b[38;5;124m'\u001b[39m][\u001b[38;5;124m'\u001b[39m\u001b[38;5;124mCode\u001b[39m\u001b[38;5;124m'\u001b[39m]\n",
      "File \u001b[0;32m~/proyectos/dataprofiler/src/aws_secrets_handler.py:72\u001b[0m, in \u001b[0;36mAWSSecretsManager.create_secret\u001b[0;34m(self, secret_name, secret_data)\u001b[0m\n\u001b[1;32m     69\u001b[0m     secret_data \u001b[38;5;241m=\u001b[39m json\u001b[38;5;241m.\u001b[39mdumps(secret_data)\n\u001b[1;32m     71\u001b[0m logger\u001b[38;5;241m.\u001b[39minfo(\u001b[38;5;124mf\u001b[39m\u001b[38;5;124m\"\u001b[39m\u001b[38;5;124mCreando secreto: \u001b[39m\u001b[38;5;132;01m{\u001b[39;00msecret_name\u001b[38;5;132;01m}\u001b[39;00m\u001b[38;5;124m\"\u001b[39m)\n\u001b[0;32m---> 72\u001b[0m \u001b[38;5;28;43mself\u001b[39;49m\u001b[38;5;241;43m.\u001b[39;49m\u001b[43mclient\u001b[49m\u001b[38;5;241;43m.\u001b[39;49m\u001b[43mcreate_secret\u001b[49m\u001b[43m(\u001b[49m\u001b[43mName\u001b[49m\u001b[38;5;241;43m=\u001b[39;49m\u001b[43msecret_name\u001b[49m\u001b[43m,\u001b[49m\u001b[43m \u001b[49m\u001b[43mSecretString\u001b[49m\u001b[38;5;241;43m=\u001b[39;49m\u001b[43msecret_data\u001b[49m\u001b[43m)\u001b[49m\n\u001b[1;32m     73\u001b[0m logger\u001b[38;5;241m.\u001b[39minfo(\u001b[38;5;124mf\u001b[39m\u001b[38;5;124m\"\u001b[39m\u001b[38;5;124mSecreto \u001b[39m\u001b[38;5;124m'\u001b[39m\u001b[38;5;132;01m{\u001b[39;00msecret_name\u001b[38;5;132;01m}\u001b[39;00m\u001b[38;5;124m'\u001b[39m\u001b[38;5;124m creado exitosamente.\u001b[39m\u001b[38;5;124m\"\u001b[39m)\n",
      "File \u001b[0;32m~/proyectos/dataprofiler/dataprofiler/lib/python3.12/site-packages/botocore/client.py:569\u001b[0m, in \u001b[0;36mClientCreator._create_api_method.<locals>._api_call\u001b[0;34m(self, *args, **kwargs)\u001b[0m\n\u001b[1;32m    565\u001b[0m     \u001b[38;5;28;01mraise\u001b[39;00m \u001b[38;5;167;01mTypeError\u001b[39;00m(\n\u001b[1;32m    566\u001b[0m         \u001b[38;5;124mf\u001b[39m\u001b[38;5;124m\"\u001b[39m\u001b[38;5;132;01m{\u001b[39;00mpy_operation_name\u001b[38;5;132;01m}\u001b[39;00m\u001b[38;5;124m() only accepts keyword arguments.\u001b[39m\u001b[38;5;124m\"\u001b[39m\n\u001b[1;32m    567\u001b[0m     )\n\u001b[1;32m    568\u001b[0m \u001b[38;5;66;03m# The \"self\" in this scope is referring to the BaseClient.\u001b[39;00m\n\u001b[0;32m--> 569\u001b[0m \u001b[38;5;28;01mreturn\u001b[39;00m \u001b[38;5;28;43mself\u001b[39;49m\u001b[38;5;241;43m.\u001b[39;49m\u001b[43m_make_api_call\u001b[49m\u001b[43m(\u001b[49m\u001b[43moperation_name\u001b[49m\u001b[43m,\u001b[49m\u001b[43m \u001b[49m\u001b[43mkwargs\u001b[49m\u001b[43m)\u001b[49m\n",
      "File \u001b[0;32m~/proyectos/dataprofiler/dataprofiler/lib/python3.12/site-packages/botocore/client.py:1023\u001b[0m, in \u001b[0;36mBaseClient._make_api_call\u001b[0;34m(self, operation_name, api_params)\u001b[0m\n\u001b[1;32m   1019\u001b[0m     error_code \u001b[38;5;241m=\u001b[39m error_info\u001b[38;5;241m.\u001b[39mget(\u001b[38;5;124m\"\u001b[39m\u001b[38;5;124mQueryErrorCode\u001b[39m\u001b[38;5;124m\"\u001b[39m) \u001b[38;5;129;01mor\u001b[39;00m error_info\u001b[38;5;241m.\u001b[39mget(\n\u001b[1;32m   1020\u001b[0m         \u001b[38;5;124m\"\u001b[39m\u001b[38;5;124mCode\u001b[39m\u001b[38;5;124m\"\u001b[39m\n\u001b[1;32m   1021\u001b[0m     )\n\u001b[1;32m   1022\u001b[0m     error_class \u001b[38;5;241m=\u001b[39m \u001b[38;5;28mself\u001b[39m\u001b[38;5;241m.\u001b[39mexceptions\u001b[38;5;241m.\u001b[39mfrom_code(error_code)\n\u001b[0;32m-> 1023\u001b[0m     \u001b[38;5;28;01mraise\u001b[39;00m error_class(parsed_response, operation_name)\n\u001b[1;32m   1024\u001b[0m \u001b[38;5;28;01melse\u001b[39;00m:\n\u001b[1;32m   1025\u001b[0m     \u001b[38;5;28;01mreturn\u001b[39;00m parsed_response\n",
      "\u001b[0;31mResourceExistsException\u001b[0m: An error occurred (ResourceExistsException) when calling the CreateSecret operation: The operation failed because the secret mi_secreto already exists."
     ]
    }
   ],
   "source": [
    "# Crear un nuevo secreto\n",
    "secrets_manager.create_secret(\"mi_secreto\", {\"clave\": \"valor123\"})"
   ]
  },
  {
   "cell_type": "markdown",
   "metadata": {},
   "source": []
  },
  {
   "cell_type": "code",
   "execution_count": 6,
   "metadata": {},
   "outputs": [
    {
     "name": "stderr",
     "output_type": "stream",
     "text": [
      "\u001b[32m2025-02-24 20:47:23.916\u001b[0m | \u001b[1mINFO    \u001b[0m | \u001b[36maws_secrets_handler\u001b[0m:\u001b[36mget_secret\u001b[0m:\u001b[36m83\u001b[0m - \u001b[1mObteniendo secreto: mi_secreto\u001b[0m\n"
     ]
    },
    {
     "name": "stdout",
     "output_type": "stream",
     "text": [
      "{'clave': 'nuevo_valor456'}\n"
     ]
    }
   ],
   "source": [
    "# Obtener un secreto\n",
    "secreto = secrets_manager.get_secret(\"mi_secreto\")\n",
    "print(secreto)"
   ]
  },
  {
   "cell_type": "code",
   "execution_count": 7,
   "metadata": {},
   "outputs": [
    {
     "name": "stderr",
     "output_type": "stream",
     "text": [
      "\u001b[32m2025-02-24 20:47:34.611\u001b[0m | \u001b[1mINFO    \u001b[0m | \u001b[36maws_secrets_handler\u001b[0m:\u001b[36mlist_secrets\u001b[0m:\u001b[36m107\u001b[0m - \u001b[1mListando secretos en AWS Secrets Manager.\u001b[0m\n",
      "\u001b[32m2025-02-24 20:47:34.739\u001b[0m | \u001b[1mINFO    \u001b[0m | \u001b[36maws_secrets_handler\u001b[0m:\u001b[36mlist_secrets\u001b[0m:\u001b[36m110\u001b[0m - \u001b[1mSe encontraron 10 secretos.\u001b[0m\n"
     ]
    },
    {
     "name": "stdout",
     "output_type": "stream",
     "text": [
      "['aws_dwh02', 'mi_secreto_ejemplo', 'aws_dwh01', 'aws_postgres', 'aws_streamlit_app_user', 'aws_read_only_user', 'supabase_postgres', 'supabase_streamlit_app_user', 'supabase', 'mi_secreto']\n"
     ]
    }
   ],
   "source": [
    "# Listar todos los secretos\n",
    "lista_secretos = secrets_manager.list_secrets()\n",
    "print(lista_secretos)"
   ]
  },
  {
   "cell_type": "code",
   "execution_count": 8,
   "metadata": {},
   "outputs": [
    {
     "name": "stderr",
     "output_type": "stream",
     "text": [
      "\u001b[32m2025-02-24 20:47:42.583\u001b[0m | \u001b[1mINFO    \u001b[0m | \u001b[36maws_secrets_handler\u001b[0m:\u001b[36mupdate_secret\u001b[0m:\u001b[36m124\u001b[0m - \u001b[1mActualizando secreto: mi_secreto\u001b[0m\n",
      "\u001b[32m2025-02-24 20:47:42.735\u001b[0m | \u001b[1mINFO    \u001b[0m | \u001b[36maws_secrets_handler\u001b[0m:\u001b[36mupdate_secret\u001b[0m:\u001b[36m126\u001b[0m - \u001b[1mSecreto 'mi_secreto' actualizado correctamente.\u001b[0m\n"
     ]
    }
   ],
   "source": [
    "# Actualizar un secreto existente\n",
    "secrets_manager.update_secret(\"mi_secreto\", {\"clave\": \"nuevo_valor456\"})"
   ]
  },
  {
   "cell_type": "code",
   "execution_count": null,
   "metadata": {},
   "outputs": [],
   "source": []
  }
 ],
 "metadata": {
  "kernelspec": {
   "display_name": "dataprofiler",
   "language": "python",
   "name": "python3"
  },
  "language_info": {
   "codemirror_mode": {
    "name": "ipython",
    "version": 3
   },
   "file_extension": ".py",
   "mimetype": "text/x-python",
   "name": "python",
   "nbconvert_exporter": "python",
   "pygments_lexer": "ipython3",
   "version": "3.12.3"
  }
 },
 "nbformat": 4,
 "nbformat_minor": 2
}
