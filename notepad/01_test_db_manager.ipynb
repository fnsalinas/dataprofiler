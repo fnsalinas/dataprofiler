{
 "cells": [
  {
   "cell_type": "code",
   "execution_count": 1,
   "metadata": {},
   "outputs": [],
   "source": [
    "from typing import List, Dict, Any\n",
    "import os\n",
    "import pandas as pd\n",
    "from common import get_sql_statement\n",
    "from aws_secrets_handler import AWSSecretsManager\n",
    "from db_manager import SQLProcessor, DatabaseConfig\n",
    "\n",
    "APPMAINPATH = os.environ.get('APPMAINPATH')\n",
    "REGION_NAME = os.environ.get('REGION_NAME')\n"
   ]
  },
  {
   "cell_type": "code",
   "execution_count": 2,
   "metadata": {},
   "outputs": [
    {
     "name": "stderr",
     "output_type": "stream",
     "text": [
      "\u001b[32m2025-02-24 20:45:11.588\u001b[0m | \u001b[1mINFO    \u001b[0m | \u001b[36maws_secrets_handler\u001b[0m:\u001b[36m__init__\u001b[0m:\u001b[36m49\u001b[0m - \u001b[1mCliente de Secrets Manager inicializado en la región us-east-2.\u001b[0m\n",
      "\u001b[32m2025-02-24 20:45:11.590\u001b[0m | \u001b[1mINFO    \u001b[0m | \u001b[36maws_secrets_handler\u001b[0m:\u001b[36mget_secret\u001b[0m:\u001b[36m83\u001b[0m - \u001b[1mObteniendo secreto: aws_postgres\u001b[0m\n",
      "\u001b[32m2025-02-24 20:45:12.051\u001b[0m | \u001b[1mINFO    \u001b[0m | \u001b[36maws_secrets_handler\u001b[0m:\u001b[36m__exit__\u001b[0m:\u001b[36m58\u001b[0m - \u001b[1mConexión al cliente de Secrets Manager cerrada.\u001b[0m\n"
     ]
    }
   ],
   "source": [
    "with AWSSecretsManager(REGION_NAME) as sm:\n",
    "    secret = {\"db_type\": \"postgresql\", **sm.get_secret(\"aws_postgres\")}"
   ]
  },
  {
   "cell_type": "code",
   "execution_count": 3,
   "metadata": {},
   "outputs": [
    {
     "name": "stderr",
     "output_type": "stream",
     "text": [
      "\u001b[32m2025-02-24 20:45:26.241\u001b[0m | \u001b[1mINFO    \u001b[0m | \u001b[36mdb_manager\u001b[0m:\u001b[36mconnect\u001b[0m:\u001b[36m105\u001b[0m - \u001b[1mConexión a postgresql establecida exitosamente.\u001b[0m\n"
     ]
    }
   ],
   "source": [
    "dbconfig = DatabaseConfig(**secret)\n",
    "sqlprocessor = SQLProcessor(dbconfig)"
   ]
  },
  {
   "cell_type": "code",
   "execution_count": 4,
   "metadata": {},
   "outputs": [
    {
     "name": "stderr",
     "output_type": "stream",
     "text": [
      "\u001b[32m2025-02-24 20:45:29.286\u001b[0m | \u001b[1mINFO    \u001b[0m | \u001b[36mcommon\u001b[0m:\u001b[36mget_sql_statement\u001b[0m:\u001b[36m24\u001b[0m - \u001b[1mIntentando leer el archivo SQL desde: /home/ubuntu/proyectos/dataprofiler/sql/01_dql_investments.sql\u001b[0m\n",
      "\u001b[32m2025-02-24 20:45:29.289\u001b[0m | \u001b[1mINFO    \u001b[0m | \u001b[36mcommon\u001b[0m:\u001b[36mget_sql_statement\u001b[0m:\u001b[36m31\u001b[0m - \u001b[1mArchivo SQL leído correctamente desde: /home/ubuntu/proyectos/dataprofiler/sql/01_dql_investments.sql\u001b[0m\n"
     ]
    }
   ],
   "source": [
    "sql_path: str = f\"{APPMAINPATH}/sql/01_dql_investments.sql\"\n",
    "sql: str = get_sql_statement(sql_path)\n",
    "df: pd.DataFrame = sqlprocessor.fetch_data(sql)"
   ]
  },
  {
   "cell_type": "code",
   "execution_count": null,
   "metadata": {},
   "outputs": [],
   "source": [
    "df.info()\n",
    "df.head()"
   ]
  },
  {
   "cell_type": "code",
   "execution_count": null,
   "metadata": {},
   "outputs": [],
   "source": []
  }
 ],
 "metadata": {
  "kernelspec": {
   "display_name": "dataprofiler",
   "language": "python",
   "name": "python3"
  },
  "language_info": {
   "codemirror_mode": {
    "name": "ipython",
    "version": 3
   },
   "file_extension": ".py",
   "mimetype": "text/x-python",
   "name": "python",
   "nbconvert_exporter": "python",
   "pygments_lexer": "ipython3",
   "version": "3.12.3"
  }
 },
 "nbformat": 4,
 "nbformat_minor": 2
}
