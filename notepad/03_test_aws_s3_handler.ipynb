{
 "cells": [
  {
   "cell_type": "code",
   "execution_count": 1,
   "metadata": {},
   "outputs": [],
   "source": [
    "from typing import List, Dict, Any\n",
    "import os\n",
    "from aws_s3_handler import S3Manager\n",
    "\n",
    "APPMAINPATH = os.environ.get('APPMAINPATH')\n",
    "REGION_NAME = os.environ.get('REGION_NAME')\n",
    "BUCKET_NAME = os.environ.get('BUCKET_NAME')"
   ]
  },
  {
   "cell_type": "code",
   "execution_count": 2,
   "metadata": {},
   "outputs": [
    {
     "name": "stderr",
     "output_type": "stream",
     "text": [
      "\u001b[32m2025-02-24 20:47:57.412\u001b[0m | \u001b[1mINFO    \u001b[0m | \u001b[36maws_s3_handler\u001b[0m:\u001b[36m__init__\u001b[0m:\u001b[36m49\u001b[0m - \u001b[1mCliente S3 inicializado en la región us-east-2.\u001b[0m\n"
     ]
    }
   ],
   "source": [
    "# Inicializar la clase con la región de AWS\n",
    "s3_manager = S3Manager(REGION_NAME)"
   ]
  },
  {
   "cell_type": "code",
   "execution_count": 3,
   "metadata": {},
   "outputs": [
    {
     "name": "stderr",
     "output_type": "stream",
     "text": [
      "\u001b[32m2025-02-24 20:48:00.775\u001b[0m | \u001b[1mINFO    \u001b[0m | \u001b[36maws_s3_handler\u001b[0m:\u001b[36mupload_file\u001b[0m:\u001b[36m61\u001b[0m - \u001b[1mSubiendo /home/ubuntu/proyectos/dataprofiler/logs/20250224_log_app.log a s3://dwh-data-pr01/backup/20250224_log_app.log.\u001b[0m\n",
      "\u001b[32m2025-02-24 20:48:01.355\u001b[0m | \u001b[1mINFO    \u001b[0m | \u001b[36maws_s3_handler\u001b[0m:\u001b[36mupload_file\u001b[0m:\u001b[36m63\u001b[0m - \u001b[1mArchivo /home/ubuntu/proyectos/dataprofiler/logs/20250224_log_app.log subido exitosamente a backup/20250224_log_app.log en el bucket dwh-data-pr01.\u001b[0m\n"
     ]
    },
    {
     "data": {
      "text/plain": [
       "True"
      ]
     },
     "execution_count": 3,
     "metadata": {},
     "output_type": "execute_result"
    }
   ],
   "source": [
    "# Subir un archivo\n",
    "filename: str = \"20250224_log_app.log\"\n",
    "log_filapath: str = f\"{APPMAINPATH}/logs/{filename}\"\n",
    "s3_manager.upload_file(log_filapath, BUCKET_NAME, f\"backup/{filename}\")"
   ]
  },
  {
   "cell_type": "code",
   "execution_count": 4,
   "metadata": {},
   "outputs": [
    {
     "name": "stderr",
     "output_type": "stream",
     "text": [
      "\u001b[32m2025-02-24 20:48:07.785\u001b[0m | \u001b[1mINFO    \u001b[0m | \u001b[36maws_s3_handler\u001b[0m:\u001b[36mdownload_file\u001b[0m:\u001b[36m76\u001b[0m - \u001b[1mDescargando backup/20250224_log_app.log de s3://dwh-data-pr01 a /home/ubuntu/proyectos/dataprofiler/logs/20250224_log_app.log_DOWNLOADED.\u001b[0m\n",
      "\u001b[32m2025-02-24 20:48:08.055\u001b[0m | \u001b[1mINFO    \u001b[0m | \u001b[36maws_s3_handler\u001b[0m:\u001b[36mdownload_file\u001b[0m:\u001b[36m78\u001b[0m - \u001b[1mArchivo backup/20250224_log_app.log descargado exitosamente en /home/ubuntu/proyectos/dataprofiler/logs/20250224_log_app.log_DOWNLOADED.\u001b[0m\n"
     ]
    },
    {
     "data": {
      "text/plain": [
       "True"
      ]
     },
     "execution_count": 4,
     "metadata": {},
     "output_type": "execute_result"
    }
   ],
   "source": [
    "# Descargar un archivo\n",
    "s3_manager.download_file(BUCKET_NAME, f\"backup/{filename}\", f\"{log_filapath}_DOWNLOADED\")"
   ]
  },
  {
   "cell_type": "code",
   "execution_count": 11,
   "metadata": {},
   "outputs": [
    {
     "name": "stderr",
     "output_type": "stream",
     "text": [
      "\u001b[32m2025-02-24 20:50:43.741\u001b[0m | \u001b[1mINFO    \u001b[0m | \u001b[36maws_s3_handler\u001b[0m:\u001b[36mcreate_bucket\u001b[0m:\u001b[36m89\u001b[0m - \u001b[1mCreando bucket bucket-prueba-fabio20250224.\u001b[0m\n",
      "\u001b[32m2025-02-24 20:50:44.644\u001b[0m | \u001b[1mINFO    \u001b[0m | \u001b[36maws_s3_handler\u001b[0m:\u001b[36mcreate_bucket\u001b[0m:\u001b[36m94\u001b[0m - \u001b[1mBucket bucket-prueba-fabio20250224 creado exitosamente en la región us-east-2.\u001b[0m\n"
     ]
    },
    {
     "data": {
      "text/plain": [
       "True"
      ]
     },
     "execution_count": 11,
     "metadata": {},
     "output_type": "execute_result"
    }
   ],
   "source": [
    "# Crear un bucket\n",
    "s3_manager.create_bucket(\"bucket-prueba-fabio20250224\")"
   ]
  },
  {
   "cell_type": "code",
   "execution_count": 9,
   "metadata": {},
   "outputs": [
    {
     "name": "stderr",
     "output_type": "stream",
     "text": [
      "\u001b[32m2025-02-24 20:49:01.096\u001b[0m | \u001b[1mINFO    \u001b[0m | \u001b[36maws_s3_handler\u001b[0m:\u001b[36mlist_files\u001b[0m:\u001b[36m106\u001b[0m - \u001b[1mListando archivos en s3://dwh-data-pr01/.\u001b[0m\n",
      "\u001b[32m2025-02-24 20:49:01.225\u001b[0m | \u001b[1mINFO    \u001b[0m | \u001b[36maws_s3_handler\u001b[0m:\u001b[36mlist_files\u001b[0m:\u001b[36m109\u001b[0m - \u001b[1mSe encontraron 3 archivos en dwh-data-pr01.\u001b[0m\n"
     ]
    },
    {
     "name": "stdout",
     "output_type": "stream",
     "text": [
      "['backup/20250224_log_app.log', 'backup/local_file.txt', 'posts.parquet']\n"
     ]
    }
   ],
   "source": [
    "# Listar archivos en un bucket\n",
    "archivos = s3_manager.list_files(BUCKET_NAME, \"\")\n",
    "print(archivos)"
   ]
  },
  {
   "cell_type": "code",
   "execution_count": null,
   "metadata": {},
   "outputs": [],
   "source": [
    "# Eliminar un archivo en S3\n",
    "s3_manager.delete_file(\"mi-bucket\", \"backup/local_file.txt\")"
   ]
  },
  {
   "cell_type": "code",
   "execution_count": null,
   "metadata": {},
   "outputs": [],
   "source": []
  }
 ],
 "metadata": {
  "kernelspec": {
   "display_name": "dataprofiler",
   "language": "python",
   "name": "python3"
  },
  "language_info": {
   "codemirror_mode": {
    "name": "ipython",
    "version": 3
   },
   "file_extension": ".py",
   "mimetype": "text/x-python",
   "name": "python",
   "nbconvert_exporter": "python",
   "pygments_lexer": "ipython3",
   "version": "3.12.3"
  }
 },
 "nbformat": 4,
 "nbformat_minor": 2
}
